{
 "cells": [
  {
   "cell_type": "code",
   "execution_count": 58,
   "metadata": {},
   "outputs": [],
   "source": [
    "from pymongo import MongoClient\n",
    "import pprint"
   ]
  },
  {
   "cell_type": "code",
   "execution_count": 59,
   "metadata": {},
   "outputs": [],
   "source": [
    "MONGO_CLIENT_ADDRESS = \"mongodb://localhost:27017/\"\n",
    "MONGO_DATABASE = \"prediction_service\"\n",
    "REPORT_COLLECTION = \"report\""
   ]
  },
  {
   "cell_type": "code",
   "execution_count": 60,
   "metadata": {},
   "outputs": [],
   "source": [
    "client = MongoClient(MONGO_CLIENT_ADDRESS)\n",
    "data = client.get_database(MONGO_DATABASE).get_collection(REPORT_COLLECTION).find()"
   ]
  },
  {
   "cell_type": "code",
   "execution_count": null,
   "metadata": {},
   "outputs": [],
   "source": [
    "pprint.pprint(data[0]['data_drift']['data']['metrics'])"
   ]
  },
  {
   "cell_type": "code",
   "execution_count": null,
   "metadata": {},
   "outputs": [],
   "source": [
    "pprint.pprint(data[0]['regression_performance']['data']['metrics'])"
   ]
  }
 ],
 "metadata": {
  "kernelspec": {
   "display_name": "Python 3.9.12 ('05-monitoring-DHrytdmQ')",
   "language": "python",
   "name": "python3"
  },
  "language_info": {
   "codemirror_mode": {
    "name": "ipython",
    "version": 3
   },
   "file_extension": ".py",
   "mimetype": "text/x-python",
   "name": "python",
   "nbconvert_exporter": "python",
   "pygments_lexer": "ipython3",
   "version": "3.9.12"
  },
  "vscode": {
   "interpreter": {
    "hash": "22bc71c764e22cd7549cd40d71ae514d28721544c9883dba1e5e989f66db6868"
   }
  }
 },
 "nbformat": 4,
 "nbformat_minor": 2
}
