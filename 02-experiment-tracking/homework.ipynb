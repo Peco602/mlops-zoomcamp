{
 "cells": [
  {
   "cell_type": "code",
   "execution_count": 1,
   "id": "eeaef4f1",
   "metadata": {},
   "outputs": [
    {
     "name": "stdout",
     "output_type": "stream",
     "text": [
      "mlflow, version 1.26.1\r\n"
     ]
    }
   ],
   "source": [
    "# Q1. Install MLflow\n",
    "!mlflow --version"
   ]
  },
  {
   "cell_type": "code",
   "execution_count": 5,
   "id": "f2e4e271",
   "metadata": {},
   "outputs": [
    {
     "name": "stdout",
     "output_type": "stream",
     "text": [
      "4\r\n"
     ]
    }
   ],
   "source": [
    "# Q2. Download and preprocess the data\n",
    "!python preprocess_data.py --raw_data_path ../data --dest_path ./output\n",
    "!ls ./output | wc -l"
   ]
  },
  {
   "cell_type": "code",
   "execution_count": 11,
   "id": "e1677391",
   "metadata": {},
   "outputs": [
    {
     "name": "stdout",
     "output_type": "stream",
     "text": [
      "2022/05/28 17:43:27 INFO mlflow.tracking.fluent: Experiment with name '02-experiment-tracking-homework' does not exist. Creating a new experiment.\n",
      "2022/05/28 17:43:48 WARNING mlflow.utils.autologging_utils: MLflow autologging encountered a warning: \"/home/azureuser/anaconda3/lib/python3.9/site-packages/_distutils_hack/__init__.py:30: UserWarning: Setuptools is replacing distutils.\"\n"
     ]
    }
   ],
   "source": [
    "# Q3. Train a model with autolog\n",
    "!python train.py --data_path ./output\n",
    "\n",
    "# 17 parameters"
   ]
  },
  {
   "cell_type": "code",
   "execution_count": null,
   "id": "323505fd",
   "metadata": {},
   "outputs": [],
   "source": []
  }
 ],
 "metadata": {
  "kernelspec": {
   "display_name": "Python 3 (ipykernel)",
   "language": "python",
   "name": "python3"
  },
  "language_info": {
   "codemirror_mode": {
    "name": "ipython",
    "version": 3
   },
   "file_extension": ".py",
   "mimetype": "text/x-python",
   "name": "python",
   "nbconvert_exporter": "python",
   "pygments_lexer": "ipython3",
   "version": "3.9.12"
  }
 },
 "nbformat": 4,
 "nbformat_minor": 5
}
