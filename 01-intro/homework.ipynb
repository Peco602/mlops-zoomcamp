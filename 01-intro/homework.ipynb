{
 "cells": [
  {
   "cell_type": "code",
   "execution_count": 73,
   "id": "a744577d",
   "metadata": {},
   "outputs": [],
   "source": [
    "import pandas as pd"
   ]
  },
  {
   "cell_type": "code",
   "execution_count": 74,
   "id": "d97fb1a5",
   "metadata": {},
   "outputs": [],
   "source": [
    "import seaborn as sns\n",
    "import matplotlib.pyplot as plt"
   ]
  },
  {
   "cell_type": "code",
   "execution_count": 75,
   "id": "9da57620",
   "metadata": {},
   "outputs": [],
   "source": [
    "from sklearn.feature_extraction import DictVectorizer\n",
    "\n",
    "from sklearn.linear_model import LinearRegression\n",
    "from sklearn.linear_model import Lasso\n",
    "from sklearn.linear_model import Ridge\n",
    "\n",
    "from sklearn.metrics import mean_squared_error"
   ]
  },
  {
   "cell_type": "code",
   "execution_count": 76,
   "id": "9cddcb49",
   "metadata": {},
   "outputs": [],
   "source": [
    "df_train = pd.read_parquet('../data/fhv_tripdata_2021-01.parquet')"
   ]
  },
  {
   "cell_type": "code",
   "execution_count": 77,
   "id": "801db174",
   "metadata": {},
   "outputs": [
    {
     "data": {
      "text/plain": [
       "dispatching_base_num      1154112\n",
       "pickup_datetime           1154112\n",
       "dropOff_datetime          1154112\n",
       "PUlocationID               195845\n",
       "DOlocationID               991892\n",
       "SR_Flag                         0\n",
       "Affiliated_base_number    1153227\n",
       "dtype: int64"
      ]
     },
     "execution_count": 77,
     "metadata": {},
     "output_type": "execute_result"
    }
   ],
   "source": [
    "# Q1. Read the data for January. How many records are there?\n",
    "df_train.count() # 1154112"
   ]
  },
  {
   "cell_type": "code",
   "execution_count": 78,
   "id": "3fdb5b63",
   "metadata": {},
   "outputs": [
    {
     "data": {
      "text/plain": [
       "19.1672240937939"
      ]
     },
     "execution_count": 78,
     "metadata": {},
     "output_type": "execute_result"
    }
   ],
   "source": [
    "# Q2. What's the average trip duration in January?\n",
    "df_train['duration'] = df_train['dropOff_datetime'] - df_train['pickup_datetime']\n",
    "df_train['duration'] = df_train.duration.apply(lambda td: td.total_seconds()/60)\n",
    "df_train['duration'].mean() # 19.16"
   ]
  },
  {
   "cell_type": "code",
   "execution_count": 79,
   "id": "3e04eb7a",
   "metadata": {},
   "outputs": [
    {
     "data": {
      "text/plain": [
       "44286"
      ]
     },
     "execution_count": 79,
     "metadata": {},
     "output_type": "execute_result"
    }
   ],
   "source": [
    "# Q2. How many records did you drop?\n",
    "before = df_train.duration.count()\n",
    "df_train = df_train[(df_train.duration >=1) & (df_train.duration <=60)]\n",
    "after = df_train.duration.count()\n",
    "before-after # 44286"
   ]
  },
  {
   "cell_type": "code",
   "execution_count": 80,
   "id": "f5deb0ee",
   "metadata": {},
   "outputs": [
    {
     "data": {
      "text/plain": [
       "0.8352732770722617"
      ]
     },
     "execution_count": 80,
     "metadata": {},
     "output_type": "execute_result"
    }
   ],
   "source": [
    "# Q3. What's the fractions of missing values for the pickup location ID? I.e. fraction of \"-1\"s after you filled the NAs.\n",
    "df_train = df_train.fillna(-1)\n",
    "(df_train.PUlocationID == -1).mean() # 83%"
   ]
  },
  {
   "cell_type": "code",
   "execution_count": 81,
   "id": "09579b80",
   "metadata": {},
   "outputs": [
    {
     "data": {
      "text/plain": [
       "<1109826x525 sparse matrix of type '<class 'numpy.float64'>'\n",
       "\twith 2219652 stored elements in Compressed Sparse Row format>"
      ]
     },
     "execution_count": 81,
     "metadata": {},
     "output_type": "execute_result"
    }
   ],
   "source": [
    "# Q4. What's the dimensionality of this matrix? (The number of columns).\n",
    "categorical = ['PUlocationID', 'DOlocationID']\n",
    "df_train[categorical] = df_train[categorical].astype(str)  \n",
    "\n",
    "dv = DictVectorizer()\n",
    "train_dicts = df_train[categorical].to_dict(orient='records')\n",
    "X_train = dv.fit_transform(train_dicts) \n",
    "X_train # 525"
   ]
  },
  {
   "cell_type": "code",
   "execution_count": 82,
   "id": "55f865b3",
   "metadata": {},
   "outputs": [
    {
     "data": {
      "text/plain": [
       "10.52851910722287"
      ]
     },
     "execution_count": 82,
     "metadata": {},
     "output_type": "execute_result"
    }
   ],
   "source": [
    "# Q5. What's the RMSE on train?\n",
    "target = 'duration'\n",
    "y_train = df_train[target].values\n",
    "\n",
    "lr = LinearRegression()\n",
    "lr.fit(X_train, y_train)\n",
    "y_pred = lr.predict(X_train)\n",
    "\n",
    "mean_squared_error(y_train, y_pred, squared=False) # 10.52"
   ]
  },
  {
   "cell_type": "code",
   "execution_count": 84,
   "id": "f2ba6fc1",
   "metadata": {},
   "outputs": [
    {
     "data": {
      "text/plain": [
       "11.014283229248326"
      ]
     },
     "execution_count": 84,
     "metadata": {},
     "output_type": "execute_result"
    }
   ],
   "source": [
    "# Q6. What's the RMSE on validation?\n",
    "df_val = pd.read_parquet('../data/fhv_tripdata_2021-02.parquet')\n",
    "df_val['duration'] = df_val['dropOff_datetime'] - df_val['pickup_datetime']\n",
    "df_val['duration'] = df_val.duration.apply(lambda td: td.total_seconds()/60)\n",
    "df_val = df_val[(df_val.duration >=1) & (df_val.duration <=60)]\n",
    "\n",
    "df_val = df_val.fillna(-1)\n",
    "\n",
    "df_val[categorical] = df_val[categorical].astype(str)  \n",
    "val_dicts = df_val[categorical].to_dict(orient='records')\n",
    "X_val = dv.transform(val_dicts)\n",
    "\n",
    "y_val = df_val['duration'].values\n",
    "y_pred = lr.predict(X_val)\n",
    "mean_squared_error(y_val, y_pred, squared=False) # 11.01"
   ]
  },
  {
   "cell_type": "code",
   "execution_count": null,
   "id": "17026bbe",
   "metadata": {},
   "outputs": [],
   "source": []
  }
 ],
 "metadata": {
  "kernelspec": {
   "display_name": "Python 3 (ipykernel)",
   "language": "python",
   "name": "python3"
  },
  "language_info": {
   "codemirror_mode": {
    "name": "ipython",
    "version": 3
   },
   "file_extension": ".py",
   "mimetype": "text/x-python",
   "name": "python",
   "nbconvert_exporter": "python",
   "pygments_lexer": "ipython3",
   "version": "3.9.12"
  }
 },
 "nbformat": 4,
 "nbformat_minor": 5
}
